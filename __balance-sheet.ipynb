{
 "cells": [
  {
   "cell_type": "code",
   "execution_count": null,
   "metadata": {},
   "outputs": [],
   "source": [
    "salaries_benefits_geo = 42\n",
    "current_month = '2021-12-31'\n",
    "import pandas as pd\n",
    "from openpyxl import Workbook, load_workbook\n",
    "from _functions import *\n",
    "rename()\n",
    "wb = load_workbook('execute/GAAPBSCFVersion.xlsx')\n",
    "ws = wb.active\n",
    "\n",
    "wb_provision = load_workbook('support/provision.xlsx')\n",
    "ws_provision = wb_provision.active\n",
    "\n",
    "wb_securitization = load_workbook('support/sec_disclosures.xlsx')\n",
    "wb_securitization = wb_securitization.active\n",
    "\n",
    "ws.move_range(\"E6:E49\", rows=0, cols=-2, translate=True)"
   ]
  },
  {
   "cell_type": "code",
   "execution_count": null,
   "metadata": {},
   "outputs": [],
   "source": [
    "cash_equiv = '8'\n",
    "finance_rec = '10'\n",
    "restricted_fr = '11'\n",
    "allowance_da = '12'\n",
    "\n",
    "ppe = '17'\n",
    "accum_dep = '18'\n",
    "restricted_cash = '21'\n",
    "\n",
    "finance_costs = '22'\n",
    "prepaid_exp = '23'\n",
    "deferred_tax_asset = '24'\n",
    "other_assets = '26'\n",
    "deposits = '30'\n",
    "unsecured_cp = '31'\n",
    "asb_debt = '33'\n",
    "mtn = '34'\n",
    "accounts_payable = '35'\n",
    "accrued_liab = '36'\n",
    "deferred_tax_liab = '37'\n",
    "rpa_net = '38'\n",
    "common_stock = '42'\n",
    "apic = '43'\n",
    "dividends = '44'\n",
    "accum_earnings = '45'\n",
    "comprehensive_inc = '46'\n",
    "treasury_stock = '47'"
   ]
  },
  {
   "cell_type": "code",
   "execution_count": null,
   "metadata": {},
   "outputs": [],
   "source": [
    "data = pd.read_csv('support/12-31-2021.csv', \"_\")\n",
    "data.columns = [\"Company\",\"GLAcct\", \"CurrentMo\", \"PriorMo\", \"Abs_Diff\"]\n",
    "df = data[data.GLAcct.notnull() & data.CurrentMo.notnull() ]\n",
    "df['GLAcct'] = df['GLAcct'].str.replace(\" \",\"_\")\n",
    "df = df.set_index('GLAcct')"
   ]
  },
  {
   "cell_type": "code",
   "execution_count": null,
   "metadata": {},
   "outputs": [],
   "source": [
    "cash_equiv_v = round(float(df['CurrentMo'].loc['Total_Non-Restricted_Cash_&_Equivalents'])/1000)\n",
    "restricted_fr_v = round(float(wb_securitization['E17'].value)/1000)\n",
    "finance_rec_v = round(float(df['CurrentMo'].loc['Total_Finance_Receivables'])/1000)-restricted_fr_v\n",
    "allowance_da_v = round(float(ws_provision['G38'].value)/1000)\n",
    "\n",
    "ppe_v = round(float(df['CurrentMo'].loc['Total_Property_&_Equipment'])/1000)\n",
    "accum_dep_v = round(float(df['CurrentMo'].loc['Total_Accumulated_Depreciation'])/1000)\n",
    "restricted_cash_v = round(float(df['CurrentMo'].loc['Total_Restricted_Cash_&_Equivalents'])/1000)\n",
    "finance_costs_v = round(float(df['CurrentMo'].loc['Total_Finance_Costs'])/1000)\n",
    "prepaid_exp_v = round(float(df['CurrentMo'].loc['Total_Prepaid_Expenses'])/1000)\n",
    "deferred_tax_asset_v = round(float(df['CurrentMo'].loc['Total_Deferred_Tax_Asset'])/1000)\n",
    "other_assets_v = round(float(df['CurrentMo'].loc['Total_Other_Assets'])/1000)\n",
    "deposits_v = round(float(df['CurrentMo'].loc['Total_Deposits'])/1000)*-1\n",
    "unsecured_cp_v = round(float(df['CurrentMo'].loc['Total_DEBT-Commercial_Paper'])/1000)*-1\n",
    "asb_debt_v = round((float(df['CurrentMo'].loc['Total_DEBT-Securitization'])/1000)+round(float(df['CurrentMo'].loc['Total_DEBT-Conduit'])/1000))*-1\n",
    "mtn_v = round(float(df['CurrentMo'].loc['Total_DEBT-Medium_Term_Notes'])/1000)*-1\n",
    "accounts_payable_v = round(float(df['CurrentMo'].loc['Total_AP-Accounts_Payable'])/1000)*-1\n",
    "accrued_liab_v = round(float(df['CurrentMo'].loc['Total_Accrued_Liabilities'])/1000)*-1\n",
    "deferred_tax_liab_v = round(float(df['CurrentMo'].loc['Total_Deferred_Tax_Liability'])/1000)*-1\n",
    "rpa_net_v = round(float(df['CurrentMo'].loc['Total_Related_Party_Payable'])/1000)*-1\n",
    "\n",
    "common_stock_v = round(float(df['CurrentMo'].loc['Total_Common_Stock'])/1000)*-1\n",
    "apic_v = round(float(df['CurrentMo'].loc['Total_Additional_Paid_in_Capital'])/1000)*-1\n",
    "dividends_v = round(float(df['CurrentMo'].loc['Total_Dividend_Declared_and_Paid'])/1000)*-1\n",
    "accum_earnings_v = round(float(df['CurrentMo'].loc['Total_Retained_Earnings'])/1000)*-1\n",
    "comprehensive_inc_v = round(float(df['CurrentMo'].loc['Total_Comprehensive_Income'])/1000)*-1\n",
    "treasury_stock_v = round(float(df['CurrentMo'].loc['Total_Treasury_Stock'])/1000)*-1\n"
   ]
  },
  {
   "cell_type": "code",
   "execution_count": null,
   "metadata": {},
   "outputs": [],
   "source": [
    "ws[f'E{cash_equiv}'].value = cash_equiv_v\n",
    "ws[f'E{restricted_fr}'].value = restricted_fr_v\n",
    "ws[f'E{finance_rec}'].value = finance_rec_v\n",
    "ws[f'E{allowance_da}'].value = allowance_da_v\n",
    "ws[f'E{ppe}'].value = ppe_v\n",
    "ws[f'E{accum_dep}'].value = accum_dep_v\n",
    "ws[f'E{restricted_cash}'].value = restricted_cash_v\n",
    "ws[f'E{finance_costs}'].value = finance_costs_v\n",
    "ws[f'E{prepaid_exp}'].value = prepaid_exp_v\n",
    "ws[f'E{deferred_tax_asset}'].value = deferred_tax_asset_v\n",
    "ws[f'E{other_assets}'].value = other_assets_v\n",
    "ws[f'E{deposits}'].value = deposits_v\n",
    "ws[f'E{unsecured_cp}'].value = unsecured_cp_v\n",
    "ws[f'E{asb_debt}'].value = asb_debt_v\n",
    "ws[f'E{mtn}'].value = mtn_v\n",
    "ws[f'E{accounts_payable}'].value = accounts_payable_v\n",
    "ws[f'E{accrued_liab}'].value = accrued_liab_v\n",
    "ws[f'E{deferred_tax_liab}'].value = deferred_tax_liab_v\n",
    "ws[f'E{rpa_net}'].value = rpa_net_v\n",
    "ws[f'E{common_stock}'].value = common_stock_v\n",
    "ws[f'E{apic}'].value = apic_v\n",
    "ws[f'E{dividends}'].value = dividends_v\n",
    "ws[f'E{accum_earnings}'].value = accum_earnings_v\n",
    "ws[f'E{comprehensive_inc}'].value = comprehensive_inc_v\n",
    "ws[f'E{treasury_stock}'].value = treasury_stock_v\n"
   ]
  },
  {
   "cell_type": "code",
   "execution_count": null,
   "metadata": {},
   "outputs": [],
   "source": [
    "ws[f'E13'].value = treasury_stock_v"
   ]
  },
  {
   "cell_type": "code",
   "execution_count": null,
   "metadata": {},
   "outputs": [],
   "source": [
    "wb.save(f'execute/{current_month} GAAP BS.xlsx')"
   ]
  }
 ],
 "metadata": {
  "language_info": {
   "name": "python"
  },
  "orig_nbformat": 4
 },
 "nbformat": 4,
 "nbformat_minor": 2
}
